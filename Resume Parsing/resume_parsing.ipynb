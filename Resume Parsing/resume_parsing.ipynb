{
 "cells": [
  {
   "cell_type": "code",
   "execution_count": 11,
   "metadata": {},
   "outputs": [],
   "source": [
    "import spacy\n",
    "import pdfminer\n",
    "import re\n",
    "import os\n",
    "import logging"
   ]
  },
  {
   "cell_type": "code",
   "execution_count": 3,
   "metadata": {
    "scrolled": true
   },
   "outputs": [
    {
     "data": {
      "text/plain": [
       "['Requirement already satisfied: pdfminer.six in /usr/local/lib/python3.7/site-packages (20170720)',\n",
       " 'Requirement already satisfied: chardet in /usr/local/lib/python3.7/site-packages (from pdfminer.six) (3.0.4)',\n",
       " 'Requirement already satisfied: six in /usr/local/lib/python3.7/site-packages (from pdfminer.six) (1.11.0)',\n",
       " 'Requirement already satisfied: pycryptodome in /usr/local/lib/python3.7/site-packages (from pdfminer.six) (3.6.6)']"
      ]
     },
     "execution_count": 3,
     "metadata": {},
     "output_type": "execute_result"
    }
   ],
   "source": [
    "!! pip3 install pdfminer.six"
   ]
  },
  {
   "cell_type": "code",
   "execution_count": 2,
   "metadata": {},
   "outputs": [],
   "source": []
  },
  {
   "cell_type": "code",
   "execution_count": 10,
   "metadata": {},
   "outputs": [
    {
     "data": {
      "text/plain": [
       "['env: python\\\\r: No such file or directory']"
      ]
     },
     "execution_count": 10,
     "metadata": {},
     "output_type": "execute_result"
    }
   ],
   "source": [
    "!! pdf2txt.py 'Resume Parsing/whitmore-resume.pdf'"
   ]
  },
  {
   "cell_type": "code",
   "execution_count": 4,
   "metadata": {},
   "outputs": [
    {
     "name": "stdout",
     "output_type": "stream",
     "text": [
      "\u001b[1m\u001b[36m__pycache__\u001b[m\u001b[m          resume_parsing.ipynb\r\n",
      "pdf2txt.py           whitmore-resume.pdf\r\n"
     ]
    }
   ],
   "source": [
    "!ls"
   ]
  },
  {
   "cell_type": "code",
   "execution_count": 3,
   "metadata": {},
   "outputs": [],
   "source": [
    "import pdf2txt"
   ]
  },
  {
   "cell_type": "code",
   "execution_count": 79,
   "metadata": {},
   "outputs": [],
   "source": [
    "def convert_pdf(f):\n",
    "\n",
    "    output_filename = os.path.basename(os.path.splitext(f)[0]) + '.txt'\n",
    "    #output_filepath = os.path.join('..', 'data', 'output', output_filename)\n",
    "    output_filepath = os.path.join('output/txt/', output_filename)\n",
    "    #logging.info('Writing text from {} to {}'.format(f, output_filepath))\n",
    "    pdf2txt.main(args=[f, '--outfile', output_filepath])\n",
    "    print(output_filepath + \" saved successfully!!!\")\n",
    "    return open(output_filepath).read()"
   ]
  },
  {
   "cell_type": "code",
   "execution_count": 80,
   "metadata": {},
   "outputs": [
    {
     "data": {
      "text/plain": [
       "'whitmore-resume'"
      ]
     },
     "execution_count": 80,
     "metadata": {},
     "output_type": "execute_result"
    }
   ],
   "source": [
    "os.path.splitext(\"whitmore-resume.pdf\")[0]"
   ]
  },
  {
   "cell_type": "code",
   "execution_count": 83,
   "metadata": {},
   "outputs": [
    {
     "name": "stdout",
     "output_type": "stream",
     "text": [
      "CV_Raunaq.pdf\n",
      "output/txt/CV_Raunaq.txt saved successfully!!!\n",
      "CV.pdf\n",
      "output/txt/CV.txt saved successfully!!!\n",
      "whitmore-resume.pdf\n",
      "output/txt/whitmore-resume.txt saved successfully!!!\n"
     ]
    }
   ],
   "source": [
    "for file in os.listdir('resumes/'):\n",
    "    if file.endswith('.pdf'):\n",
    "        print(file)\n",
    "        convert_pdf(os.path.join('resumes/',file))"
   ]
  },
  {
   "cell_type": "code",
   "execution_count": 76,
   "metadata": {},
   "outputs": [
    {
     "name": "stdout",
     "output_type": "stream",
     "text": [
      "output/txt/whitmore-resume.txt saved successfully!!!\n"
     ]
    }
   ],
   "source": [
    "text = convert_pdf(\"resumes/whitmore-resume.pdf\")"
   ]
  },
  {
   "cell_type": "code",
   "execution_count": 59,
   "metadata": {},
   "outputs": [],
   "source": [
    "nlp = spacy.load(\"en_core_web_sm\")"
   ]
  },
  {
   "cell_type": "code",
   "execution_count": 60,
   "metadata": {},
   "outputs": [],
   "source": [
    "doc = nlp(text)"
   ]
  },
  {
   "cell_type": "code",
   "execution_count": 61,
   "metadata": {},
   "outputs": [
    {
     "name": "stdout",
     "output_type": "stream",
     "text": [
      "Jonathan Whitmore\n",
      " PERSON\n",
      "Data Scientist\n",
      " ORG\n",
      "\n",
      " GPE\n",
      "Data Scientist PERSON\n",
      "Silicon Valley Data Science, ORG\n",
      "Mountain View FAC\n",
      "CA GPE\n",
      "USA GPE\n",
      "\n",
      " GPE\n",
      "cid:123 PERSON\n",
      "\n",
      " GPE\n",
      "cid:123 PERSON\n",
      "\n",
      " GPE\n",
      "cid:123 PERSON\n",
      "Modeling GPE\n",
      "R.\n",
      " LOC\n",
      "cid:123 PERSON\n",
      "Mountain View GPE\n",
      "CA\n",
      " FAC\n",
      "\n",
      " GPE\n",
      "JonathanWhitmore.com\n",
      " ORG\n",
      "\n",
      "Present\n",
      "\n",
      "2014 EVENT\n",
      "Insight Fellow PERSON\n",
      "Insight Data Science ORG\n",
      "Palo Alto GPE\n",
      "CA GPE\n",
      "USA GPE\n",
      "cid:123 PERSON\n",
      "Data Science ORG\n",
      "Postdoctoral Research Associate ORG\n",
      "Swinburne University ORG\n",
      "Melbourne GPE\n",
      "AUS ORG\n",
      "cid:123 PERSON\n",
      "four years DATE\n",
      "\n",
      " GPE\n",
      "cid:123 PERSON\n",
      "Curated PRODUCT\n",
      "cid:123 PERSON\n",
      "\n",
      " GPE\n",
      "Markov-Chain Monte Carlo ORG\n",
      "\n",
      " GPE\n",
      "cid:123 PERSON\n",
      "2005–2011 CARDINAL\n",
      "UCSD ORG\n",
      "San Diego GPE\n",
      "CA, USA GPE\n",
      "cid:123 PERSON\n",
      "SQL PERSON\n",
      "Impala/Hive ORG\n",
      "LATEX PRODUCT\n",
      "CSS ORG\n",
      "Jupyter Notebook PERSON\n",
      "Side Projects PRODUCT\n",
      "2016 DATE\n",
      "Jupyter Notebook PERSON\n",
      "Data Science Teams ORG\n",
      "Media ORG\n",
      "\n",
      " GPE\n",
      "2016 DATE\n",
      "UC Berkeley Guest Lecturer ORG\n",
      "Data Science ORG\n",
      "Jupyter Notebook PERSON\n",
      "2015 DATE\n",
      "OSCON ORG\n",
      "Mastering SciPy GPE\n",
      "Francisco J. Blanco-Silva PERSON\n",
      "2015 DATE\n",
      "\n",
      " GPE\n",
      "2012–2014 Developer PERSON\n",
      "\n",
      " GPE\n",
      "2013-2014 DATE\n",
      "dipole_error ORG\n",
      "2013 CARDINAL\n",
      "Hidden Universe FAC\n",
      "2007–2009 CARDINAL\n",
      "Graduate Physics Courses Taken ORG\n",
      "Stochastic Methods ORG\n",
      "Computational Physics ORG\n",
      "\n",
      "\n",
      " DATE\n",
      "2011 PhD Physics WORK_OF_ART\n",
      "University of California San Diego ORG\n",
      "San Diego GPE\n",
      "CA, USA GPE\n",
      "\n",
      " GPE\n",
      "2007 DATE\n",
      "MS Physics ORG\n",
      "University of California San Diego ORG\n",
      "San Diego GPE\n",
      "CA, USA GPE\n",
      "\n",
      " GPE\n",
      "2005 DATE\n",
      "Science–Magna Cum Laude PRODUCT\n",
      "Vanderbilt University ORG\n",
      "Nashville GPE\n",
      "TN GPE\n",
      "USA GPE\n"
     ]
    }
   ],
   "source": [
    "for entity in doc.ents:\n",
    "    print(entity.text, entity.label_)"
   ]
  },
  {
   "cell_type": "code",
   "execution_count": 62,
   "metadata": {},
   "outputs": [
    {
     "name": "stdout",
     "output_type": "stream",
     "text": [
      "2005–2011 CARDINAL\n",
      "2013 CARDINAL\n",
      "2007–2009 CARDINAL\n"
     ]
    }
   ],
   "source": [
    "for entity in doc.ents:\n",
    "    if entity.label_ is 'CARDINAL':\n",
    "        print(entity.text, entity.label_)"
   ]
  },
  {
   "cell_type": "code",
   "execution_count": 63,
   "metadata": {},
   "outputs": [
    {
     "name": "stdout",
     "output_type": "stream",
     "text": [
      "JBWhit@gmail.com\n"
     ]
    }
   ],
   "source": [
    "for word in doc:\n",
    "    if word.like_email == True:\n",
    "        print(word)"
   ]
  },
  {
   "cell_type": "code",
   "execution_count": null,
   "metadata": {},
   "outputs": [],
   "source": []
  },
  {
   "cell_type": "code",
   "execution_count": null,
   "metadata": {},
   "outputs": [],
   "source": []
  },
  {
   "cell_type": "code",
   "execution_count": null,
   "metadata": {},
   "outputs": [],
   "source": []
  }
 ],
 "metadata": {
  "kernelspec": {
   "display_name": "Python 3",
   "language": "python",
   "name": "python3"
  },
  "language_info": {
   "codemirror_mode": {
    "name": "ipython",
    "version": 3
   },
   "file_extension": ".py",
   "mimetype": "text/x-python",
   "name": "python",
   "nbconvert_exporter": "python",
   "pygments_lexer": "ipython3",
   "version": "3.7.3"
  }
 },
 "nbformat": 4,
 "nbformat_minor": 2
}
