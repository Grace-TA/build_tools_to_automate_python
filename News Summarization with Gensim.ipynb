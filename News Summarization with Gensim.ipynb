{
 "cells": [
  {
   "cell_type": "markdown",
   "metadata": {},
   "source": [
    "Reference: https://rare-technologies.com/text-summarization-with-gensim/"
   ]
  },
  {
   "cell_type": "code",
   "execution_count": 1,
   "metadata": {},
   "outputs": [],
   "source": [
    "from gensim.summarization.summarizer import summarize\n",
    "from gensim.summarization import keywords"
   ]
  },
  {
   "cell_type": "code",
   "execution_count": 2,
   "metadata": {},
   "outputs": [],
   "source": [
    "import requests"
   ]
  },
  {
   "cell_type": "code",
   "execution_count": 3,
   "metadata": {},
   "outputs": [],
   "source": [
    "# getting text document from Internet\n",
    "text = requests.get('http://rare-technologies.com/the_matrix_synopsis.txt').text"
   ]
  },
  {
   "cell_type": "code",
   "execution_count": 7,
   "metadata": {},
   "outputs": [],
   "source": [
    "#getting text document from web, below function based from 3\n",
    "from bs4 import BeautifulSoup\n",
    "from urllib.request import urlopen\n",
    " \n",
    "def get_only_text(url):\n",
    " \"\"\" \n",
    "  return the title and the text of the article\n",
    "  at the specified url\n",
    " \"\"\"\n",
    " page = urlopen(url)\n",
    " soup = BeautifulSoup(page, \"lxml\")\n",
    " text = ' '.join(map(lambda p: p.text, soup.find_all('p')))\n",
    " return soup.title.text, text    \n",
    " \n",
    "  \n"
   ]
  },
  {
   "cell_type": "code",
   "execution_count": 5,
   "metadata": {},
   "outputs": [
    {
     "name": "stdout",
     "output_type": "stream",
     "text": [
      "Summary:\n",
      "Anderson, a software engineer for a Metacortex, the other life as Neo, a computer hacker \"guilty of virtually every computer crime we have a law for.\" Agent Smith asks him to help them capture Morpheus, a dangerous terrorist, in exchange for amnesty.\n",
      "Neo is introduced to Morpheus's crew including Trinity; Apoc (Julian Arahanga), a man with long, flowing black hair; Switch; Cypher (bald with a goatee); two brawny brothers, Tank (Marcus Chong) and Dozer (Anthony Ray Parker); and a young, thin man named Mouse (Matt Doran).\n"
     ]
    }
   ],
   "source": [
    "print ('Summary:')\n",
    "print (summarize(text, ratio=0.005))"
   ]
  },
  {
   "cell_type": "code",
   "execution_count": 6,
   "metadata": {},
   "outputs": [
    {
     "name": "stdout",
     "output_type": "stream",
     "text": [
      "\n",
      "Keywords:\n",
      "neo\n",
      "morpheus\n",
      "trinity\n",
      "cypher\n",
      "smith\n",
      "agents\n",
      "agent\n",
      "tank\n",
      "says\n",
      "saying\n"
     ]
    }
   ],
   "source": [
    "print ('\\nKeywords:')\n",
    "print (keywords(text, ratio=0.01))"
   ]
  },
  {
   "cell_type": "code",
   "execution_count": 31,
   "metadata": {
    "scrolled": true
   },
   "outputs": [
    {
     "name": "stdout",
     "output_type": "stream",
     "text": [
      "Summary:\n",
      "\n",
      "\n",
      "Keywords:\n",
      "populism\n",
      "populist\n",
      "populists\n"
     ]
    }
   ],
   "source": [
    "#url=\"https://www.theverge.com/2019/3/12/18260351/samsung-galaxy-s10-review-specs-price-features\"\n",
    "url = \"https://indianexpress.com/article/opinion/columns/2019-and-populism-india-narendra-modi-5661301/\"\n",
    "text = get_only_text(url)\n",
    " \n",
    "print ('Summary:')   \n",
    "print (summarize(str(text), ratio=0.01))\n",
    " \n",
    "print ('\\nKeywords:')\n",
    " \n",
    "# higher ratio => more keywords\n",
    "print (keywords(str(text), ratio=0.01))"
   ]
  },
  {
   "cell_type": "code",
   "execution_count": 23,
   "metadata": {},
   "outputs": [
    {
     "data": {
      "text/plain": [
       "('What An Aging Population Means For The Future Of The Internet', '')"
      ]
     },
     "execution_count": 23,
     "metadata": {},
     "output_type": "execute_result"
    }
   ],
   "source": [
    "text"
   ]
  },
  {
   "cell_type": "code",
   "execution_count": 32,
   "metadata": {},
   "outputs": [
    {
     "data": {
      "text/plain": [
       "'All Rights Reserved The writer is Sol Goldman Professor of International Studies and the Social Sciences at Brown University, where he also directs the India Initiative at the Watson Institute.\\nThese leaders are not exactly alike, but it is now generally argued that they share roughly the same ideology, labelled as right-wing populism or majoritarian nationalism.\\nWe then summarise findings from the first-ever mass survey of populism in India, undertaken as part of a joint project between Azim Premji University and Lokniti, titled “Politics and Society Between Elections”.\\nContrariwise, if a religious, ethnic or racial majority constitutes “the people”, we get populism that aligns with the right.\\nIt drew representative state-level samples from Uttar Pradesh, Uttarakhand, Delhi, Punjab, Jammu and Kashmir, Tamil Nadu, Kerala, West Bengal, Assam, Tripura, Mizoram and Nagaland.\\nThe first set was about generic populism: Who is blocking the progress of people like you — elites, minorities, upper castes, migrants?; Is politics ultimately a battle between good and bad, or a compromise between them?; To serve the people better, should elected leaders override the courts?\\nThese are standard questions in populism surveys worldwide.\\nThere is clearly a base for populism here, but only anti-elitism approaches close to half of those surveyed.\\nIn addition to these questions about generic populism, the survey also asked questions related to right-wing populism.\\nOn these questions, state-level data is the best way to present what the survey found.\\nUP, Uttarakhand and Delhi have the highest support for right-wing populism, whereas Kerala, Nagaland and Mizoram are among the lowest votaries of such punishments.\\nIn the survey, support for right-wing populism in UP ranges between 40-50 per cent.\\nIf we assume that support for right-wing populism and the BJP vote would largely go together now, and those opposed would gravitate mostly towards the SP-BSP alliance, then we should expect a quite equal electoral battle in UP.'"
      ]
     },
     "execution_count": 32,
     "metadata": {},
     "output_type": "execute_result"
    }
   ],
   "source": [
    "summarize(str(text))"
   ]
  },
  {
   "cell_type": "code",
   "execution_count": null,
   "metadata": {},
   "outputs": [],
   "source": []
  }
 ],
 "metadata": {
  "kernelspec": {
   "display_name": "Python 3",
   "language": "python",
   "name": "python3"
  },
  "language_info": {
   "codemirror_mode": {
    "name": "ipython",
    "version": 3
   },
   "file_extension": ".py",
   "mimetype": "text/x-python",
   "name": "python",
   "nbconvert_exporter": "python",
   "pygments_lexer": "ipython3",
   "version": "3.7.0"
  }
 },
 "nbformat": 4,
 "nbformat_minor": 2
}
